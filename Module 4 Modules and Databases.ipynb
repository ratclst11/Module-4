{
 "cells": [
  {
   "cell_type": "code",
   "execution_count": 3,
   "id": "bffcfe03-3b34-4608-9775-9dd9f0bb5d8d",
   "metadata": {},
   "outputs": [
    {
     "name": "stdout",
     "output_type": "stream",
     "text": [
      "Open 9-5 daily\n"
     ]
    }
   ],
   "source": [
    "import zoo\n",
    "zoo.hours()"
   ]
  },
  {
   "cell_type": "markdown",
   "id": "27ccacf0-e1f1-40b3-a67e-0c7e2e7be969",
   "metadata": {},
   "source": [
    "# Import the zoo module\n",
    "import zoo\n",
    "\n",
    "# Call the hours() function\n",
    "zoo.hours()"
   ]
  },
  {
   "cell_type": "code",
   "execution_count": 5,
   "id": "f0c1cff1-9c60-4c8c-8fce-70c51b8627c6",
   "metadata": {},
   "outputs": [
    {
     "name": "stdout",
     "output_type": "stream",
     "text": [
      "Open 9-5 daily\n"
     ]
    }
   ],
   "source": [
    "import zoo as menagerie\n",
    "menagerie.hours()"
   ]
  },
  {
   "cell_type": "markdown",
   "id": "038ffbea-07c9-41a1-9574-87711c4fd93c",
   "metadata": {},
   "source": [
    "### Import `zoo` as `menagerie` and Call `hours()`\n",
    "\n",
    "1. **Open Terminal/Command Prompt**:\n",
    "    - On Windows: Command Prompt or PowerShell.\n",
    "\n",
    "2. **Start Python Interactive Interpreter**:\n",
    "    ```python\n",
    "    python\n",
    "    ```\n",
    "\n",
    "3. **Import `zoo` as `menagerie`**:\n",
    "    ```python\n",
    "    >>> import zoo as menagerie\n",
    "    ```\n",
    "\n",
    "4. **Call `hours()` Function**:\n",
    "    ```python\n",
    "    >>> menagerie.hours()\n",
    "    Open 9-5 daily\n",
    "    ```"
   ]
  },
  {
   "cell_type": "code",
   "execution_count": null,
   "id": "c1ba7f6f-dbdb-437e-8296-571d2b539ec0",
   "metadata": {},
   "outputs": [],
   "source": [
    "from sqlalchemy import create_engine, MetaData, Table, select\n",
    "\n",
    "# Create an engine for the SQLite database\n",
    "engine = create_engine('sqlite:///books.db')\n",
    "\n",
    "# Connect to the engine\n",
    "connection = engine.connect()\n",
    "\n",
    "# Existing database into a new model\n",
    "metadata = MetaData()\n",
    "books = Table('books', metadata, autoload_with=engine)\n",
    "\n",
    "# Select the title column from the books table and order by title\n",
    "query = select(books.c.title).order_by(books.c.title)\n",
    "\n",
    "# Execute the query and get all results\n",
    "result = connection.execute(query).fetchall()\n",
    "\n",
    "# Print titles in alphabetical order\n",
    "for row in result:\n",
    "    print(row.title)\n",
    "\n",
    "# Close the connection\n",
    "connection.close()"
   ]
  }
 ],
 "metadata": {
  "kernelspec": {
   "display_name": "Python [conda env:base] *",
   "language": "python",
   "name": "conda-base-py"
  },
  "language_info": {
   "codemirror_mode": {
    "name": "ipython",
    "version": 3
   },
   "file_extension": ".py",
   "mimetype": "text/x-python",
   "name": "python",
   "nbconvert_exporter": "python",
   "pygments_lexer": "ipython3",
   "version": "3.12.7"
  }
 },
 "nbformat": 4,
 "nbformat_minor": 5
}
